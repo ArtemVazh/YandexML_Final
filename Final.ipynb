{
  "nbformat": 4,
  "nbformat_minor": 0,
  "metadata": {
    "kernelspec": {
      "name": "python3",
      "display_name": "Python 3"
    },
    "language_info": {
      "codemirror_mode": {
        "name": "ipython",
        "version": 3
      },
      "file_extension": ".py",
      "mimetype": "text/x-python",
      "name": "python",
      "nbconvert_exporter": "python",
      "pygments_lexer": "ipython3",
      "version": "3.6.8"
    },
    "colab": {
      "name": "Final (3).ipynb",
      "provenance": [],
      "collapsed_sections": [],
      "machine_shape": "hm"
    },
    "accelerator": "GPU"
  },
  "cells": [
    {
      "cell_type": "code",
      "metadata": {
        "id": "-K3uO7FROTx3",
        "colab_type": "code",
        "outputId": "4ffca3eb-e80b-4fa6-85f7-c5a0be144757",
        "colab": {
          "base_uri": "https://localhost:8080/",
          "height": 122
        }
      },
      "source": [
        "from google.colab import drive\n",
        "import pandas as pd\n",
        "drive.mount('/topics_data/')"
      ],
      "execution_count": 0,
      "outputs": [
        {
          "output_type": "stream",
          "text": [
            "Go to this URL in a browser: https://accounts.google.com/o/oauth2/auth?client_id=947318989803-6bn6qk8qdgf4n4g3pfee6491hc0brc4i.apps.googleusercontent.com&redirect_uri=urn%3aietf%3awg%3aoauth%3a2.0%3aoob&response_type=code&scope=email%20https%3a%2f%2fwww.googleapis.com%2fauth%2fdocs.test%20https%3a%2f%2fwww.googleapis.com%2fauth%2fdrive%20https%3a%2f%2fwww.googleapis.com%2fauth%2fdrive.photos.readonly%20https%3a%2f%2fwww.googleapis.com%2fauth%2fpeopleapi.readonly\n",
            "\n",
            "Enter your authorization code:\n",
            "··········\n",
            "Mounted at /topics_data/\n"
          ],
          "name": "stdout"
        }
      ]
    },
    {
      "cell_type": "code",
      "metadata": {
        "scrolled": true,
        "id": "0voR87HYK3QJ",
        "colab_type": "code",
        "colab": {}
      },
      "source": [
        "train = pd.read_csv(\"/topics_data/My Drive/Colab Notebooks/topics_data/train.tsv\", sep='\\t', lineterminator = '\\n', header = None).fillna(0)"
      ],
      "execution_count": 0,
      "outputs": []
    },
    {
      "cell_type": "code",
      "metadata": {
        "scrolled": true,
        "id": "4FA4Hai3K3QV",
        "colab_type": "code",
        "outputId": "05acaef1-bfa8-41f6-9976-f17c4c2fd1a5",
        "colab": {
          "base_uri": "https://localhost:8080/",
          "height": 204
        }
      },
      "source": [
        "train.head()"
      ],
      "execution_count": 0,
      "outputs": [
        {
          "output_type": "execute_result",
          "data": {
            "text/html": [
              "<div>\n",
              "<style scoped>\n",
              "    .dataframe tbody tr th:only-of-type {\n",
              "        vertical-align: middle;\n",
              "    }\n",
              "\n",
              "    .dataframe tbody tr th {\n",
              "        vertical-align: top;\n",
              "    }\n",
              "\n",
              "    .dataframe thead th {\n",
              "        text-align: right;\n",
              "    }\n",
              "</style>\n",
              "<table border=\"1\" class=\"dataframe\">\n",
              "  <thead>\n",
              "    <tr style=\"text-align: right;\">\n",
              "      <th></th>\n",
              "      <th>0</th>\n",
              "      <th>1</th>\n",
              "      <th>2</th>\n",
              "      <th>3</th>\n",
              "    </tr>\n",
              "  </thead>\n",
              "  <tbody>\n",
              "    <tr>\n",
              "      <th>0</th>\n",
              "      <td>0</td>\n",
              "      <td>Краткая история российско-американских отношен...</td>\n",
              "      <td>Когда «Лишь бы не было войны» сменилось мемом ...</td>\n",
              "      <td>2,7,10,29,50</td>\n",
              "    </tr>\n",
              "    <tr>\n",
              "      <th>1</th>\n",
              "      <td>1</td>\n",
              "      <td>Видео: Квартира среднестатистического китайца</td>\n",
              "      <td>Практически все уже знают, что Китай - произв...</td>\n",
              "      <td>79,95</td>\n",
              "    </tr>\n",
              "    <tr>\n",
              "      <th>2</th>\n",
              "      <td>2</td>\n",
              "      <td>Дни Украины сочтены!</td>\n",
              "      <td>Не смотря на столь громкий заголовок я, до ...</td>\n",
              "      <td>2,10,71</td>\n",
              "    </tr>\n",
              "    <tr>\n",
              "      <th>3</th>\n",
              "      <td>3</td>\n",
              "      <td>Плюсы и минусы жизни на Мальте</td>\n",
              "      <td>Доброго времени суток дорогие читатели, сегод...</td>\n",
              "      <td>15</td>\n",
              "    </tr>\n",
              "    <tr>\n",
              "      <th>4</th>\n",
              "      <td>4</td>\n",
              "      <td>В СССР все были неравны</td>\n",
              "      <td>На фоне громких расследований Фонда по Борьбе ...</td>\n",
              "      <td>3</td>\n",
              "    </tr>\n",
              "  </tbody>\n",
              "</table>\n",
              "</div>"
            ],
            "text/plain": [
              "   0  ...             3\n",
              "0  0  ...  2,7,10,29,50\n",
              "1  1  ...         79,95\n",
              "2  2  ...       2,10,71\n",
              "3  3  ...            15\n",
              "4  4  ...             3\n",
              "\n",
              "[5 rows x 4 columns]"
            ]
          },
          "metadata": {
            "tags": []
          },
          "execution_count": 3
        }
      ]
    },
    {
      "cell_type": "code",
      "metadata": {
        "id": "6TaLHZQmK3Qf",
        "colab_type": "code",
        "outputId": "4b076c3a-b864-462b-a508-b5422a7f6c57",
        "colab": {
          "base_uri": "https://localhost:8080/",
          "height": 34
        }
      },
      "source": [
        "train.shape"
      ],
      "execution_count": 0,
      "outputs": [
        {
          "output_type": "execute_result",
          "data": {
            "text/plain": [
              "(126025, 4)"
            ]
          },
          "metadata": {
            "tags": []
          },
          "execution_count": 4
        }
      ]
    },
    {
      "cell_type": "code",
      "metadata": {
        "id": "506tmxH1K3Q4",
        "colab_type": "code",
        "colab": {}
      },
      "source": [
        "targets = {i:[0]*100 for i in range(len(train))}"
      ],
      "execution_count": 0,
      "outputs": []
    },
    {
      "cell_type": "code",
      "metadata": {
        "id": "78L8t-dwWkvc",
        "colab_type": "code",
        "colab": {}
      },
      "source": [
        "train[3] = train[3].fillna(0).astype(str)"
      ],
      "execution_count": 0,
      "outputs": []
    },
    {
      "cell_type": "code",
      "metadata": {
        "scrolled": true,
        "colab_type": "code",
        "id": "jo5w4tocWh-N",
        "colab": {}
      },
      "source": [
        "for i in range(len(train)):\n",
        "    for j in train[3][i].split(','):\n",
        "        targets[i][int(j)] = 1"
      ],
      "execution_count": 0,
      "outputs": []
    },
    {
      "cell_type": "code",
      "metadata": {
        "id": "r6ujLeBtK3RB",
        "colab_type": "code",
        "colab": {}
      },
      "source": [
        "target_df = pd.DataFrame.from_dict(targets, columns = [i for i in range(100)], orient='index')"
      ],
      "execution_count": 0,
      "outputs": []
    },
    {
      "cell_type": "code",
      "metadata": {
        "id": "jh1V8GvqK3RG",
        "colab_type": "code",
        "colab": {}
      },
      "source": [
        "from sklearn.feature_extraction.text import TfidfVectorizer\n",
        "from sklearn.linear_model import SGDClassifier, LogisticRegression\n",
        "from sklearn.model_selection import train_test_split\n",
        "from sklearn.naive_bayes import MultinomialNB\n",
        "from sklearn import metrics\n",
        "from scipy.sparse import hstack\n",
        "from sklearn.svm import LinearSVC\n",
        "from sklearn.feature_extraction.text import CountVectorizer\n",
        "from sklearn.feature_extraction.text import TfidfTransformer\n",
        "from sklearn.pipeline import Pipeline"
      ],
      "execution_count": 0,
      "outputs": []
    },
    {
      "cell_type": "code",
      "metadata": {
        "id": "qa3ZdnHZDsH0",
        "colab_type": "code",
        "outputId": "89f5f1a2-1d54-4eae-e337-00b3f1dddee0",
        "colab": {
          "base_uri": "https://localhost:8080/",
          "height": 119
        }
      },
      "source": [
        "!pip install pymystem3"
      ],
      "execution_count": 0,
      "outputs": [
        {
          "output_type": "stream",
          "text": [
            "Requirement already satisfied: pymystem3 in /usr/local/lib/python3.6/dist-packages (0.2.0)\n",
            "Requirement already satisfied: requests in /usr/local/lib/python3.6/dist-packages (from pymystem3) (2.21.0)\n",
            "Requirement already satisfied: chardet<3.1.0,>=3.0.2 in /usr/local/lib/python3.6/dist-packages (from requests->pymystem3) (3.0.4)\n",
            "Requirement already satisfied: idna<2.9,>=2.5 in /usr/local/lib/python3.6/dist-packages (from requests->pymystem3) (2.8)\n",
            "Requirement already satisfied: certifi>=2017.4.17 in /usr/local/lib/python3.6/dist-packages (from requests->pymystem3) (2019.11.28)\n",
            "Requirement already satisfied: urllib3<1.25,>=1.21.1 in /usr/local/lib/python3.6/dist-packages (from requests->pymystem3) (1.24.3)\n"
          ],
          "name": "stdout"
        }
      ]
    },
    {
      "cell_type": "code",
      "metadata": {
        "id": "aPX5kttyK3RK",
        "colab_type": "code",
        "outputId": "9a983c70-2ec3-43d4-d80d-c9dce2f7fa83",
        "colab": {
          "base_uri": "https://localhost:8080/",
          "height": 51
        }
      },
      "source": [
        "import nltk\n",
        "nltk.download(\"stopwords\")\n",
        "#--------#\n",
        "\n",
        "from nltk.stem.snowball import SnowballStemmer \n",
        "\n",
        "stemmer = SnowballStemmer(\"russian\") \n",
        "\n",
        "from nltk.corpus import stopwords\n",
        "from pymystem3 import Mystem\n",
        "from string import punctuation\n",
        "\n",
        "#Create lemmatizer and stopwords list\n",
        "mystem = SnowballStemmer(\"russian\") \n",
        "russian_stopwords = stopwords.words(\"russian\")\n",
        "\n",
        "#Preprocess function\n",
        "def preprocess_text(text):\n",
        "    global j\n",
        "    if j%10000 == 0:\n",
        "        print(j)\n",
        "    j+=1\n",
        "    txt = text.lower().split(' ')\n",
        "    tokens = [stemmer.stem(word) for word in txt]\n",
        "    tokens = [token for token in tokens if token not in russian_stopwords\\\n",
        "              and token != \" \" \\\n",
        "              and token.strip() not in punctuation]\n",
        "    text = \" \".join(tokens)\n",
        "    return text"
      ],
      "execution_count": 0,
      "outputs": [
        {
          "output_type": "stream",
          "text": [
            "[nltk_data] Downloading package stopwords to /root/nltk_data...\n",
            "[nltk_data]   Unzipping corpora/stopwords.zip.\n"
          ],
          "name": "stdout"
        }
      ]
    },
    {
      "cell_type": "code",
      "metadata": {
        "scrolled": true,
        "id": "qgIzqTM_K3RO",
        "colab_type": "code",
        "outputId": "5873af2a-79e2-4647-b4aa-e657fd2be540",
        "colab": {
          "base_uri": "https://localhost:8080/",
          "height": 238
        }
      },
      "source": [
        "j = 0\n",
        "title = train[1].apply(preprocess_text)"
      ],
      "execution_count": 0,
      "outputs": [
        {
          "output_type": "stream",
          "text": [
            "0\n",
            "10000\n",
            "20000\n",
            "30000\n",
            "40000\n",
            "50000\n",
            "60000\n",
            "70000\n",
            "80000\n",
            "90000\n",
            "100000\n",
            "110000\n",
            "120000\n"
          ],
          "name": "stdout"
        }
      ]
    },
    {
      "cell_type": "code",
      "metadata": {
        "id": "4wXHya-yK3RT",
        "colab_type": "code",
        "outputId": "76107dbe-8a32-4cfc-eee9-8cf48301b8c5",
        "colab": {
          "base_uri": "https://localhost:8080/",
          "height": 238
        }
      },
      "source": [
        "j = 0\n",
        "content = train[2].astype(str).apply(preprocess_text)"
      ],
      "execution_count": 0,
      "outputs": [
        {
          "output_type": "stream",
          "text": [
            "0\n",
            "10000\n",
            "20000\n",
            "30000\n",
            "40000\n",
            "50000\n",
            "60000\n",
            "70000\n",
            "80000\n",
            "90000\n",
            "100000\n",
            "110000\n",
            "120000\n"
          ],
          "name": "stdout"
        }
      ]
    },
    {
      "cell_type": "code",
      "metadata": {
        "id": "m0C1re1UK3RZ",
        "colab_type": "code",
        "colab": {}
      },
      "source": [
        "vectorizer_topic = TfidfVectorizer(stop_words=russian_stopwords, ngram_range=(1,2))\n",
        "vectorizer_content = TfidfVectorizer(stop_words=russian_stopwords, ngram_range=(1,2))"
      ],
      "execution_count": 0,
      "outputs": []
    },
    {
      "cell_type": "code",
      "metadata": {
        "scrolled": true,
        "id": "eV2DrrdAK3Rd",
        "colab_type": "code",
        "colab": {}
      },
      "source": [
        "X1 = vectorizer_topic.fit_transform(title)#exper_train[1])\n",
        "X2 = vectorizer_content.fit_transform(content)#exper_train[2])"
      ],
      "execution_count": 0,
      "outputs": []
    },
    {
      "cell_type": "code",
      "metadata": {
        "id": "XXhfhI1xK3Rh",
        "colab_type": "code",
        "outputId": "453e1c06-b20f-4ede-ae4f-2c996a54ef30",
        "colab": {
          "base_uri": "https://localhost:8080/",
          "height": 34
        }
      },
      "source": [
        "X1.shape, X2.shape"
      ],
      "execution_count": 0,
      "outputs": [
        {
          "output_type": "execute_result",
          "data": {
            "text/plain": [
              "((126025, 478819), (126025, 17006781))"
            ]
          },
          "metadata": {
            "tags": []
          },
          "execution_count": 16
        }
      ]
    },
    {
      "cell_type": "code",
      "metadata": {
        "id": "kY-98bQaK3Ro",
        "colab_type": "code",
        "colab": {}
      },
      "source": [
        "X = hstack([X1,X2])"
      ],
      "execution_count": 0,
      "outputs": []
    },
    {
      "cell_type": "code",
      "metadata": {
        "id": "kn_VfwN_K3Rs",
        "colab_type": "code",
        "outputId": "9a050a46-a90d-416a-ceab-3e2819745dac",
        "colab": {
          "base_uri": "https://localhost:8080/",
          "height": 34
        }
      },
      "source": [
        "X.shape"
      ],
      "execution_count": 0,
      "outputs": [
        {
          "output_type": "execute_result",
          "data": {
            "text/plain": [
              "(126025, 17485600)"
            ]
          },
          "metadata": {
            "tags": []
          },
          "execution_count": 18
        }
      ]
    },
    {
      "cell_type": "code",
      "metadata": {
        "id": "Q_BkqbGcK3SV",
        "colab_type": "code",
        "colab": {}
      },
      "source": [
        "clf = []\n",
        "f1 = []"
      ],
      "execution_count": 0,
      "outputs": []
    },
    {
      "cell_type": "code",
      "metadata": {
        "scrolled": true,
        "id": "CbOj5NXhK3Se",
        "colab_type": "code",
        "outputId": "0b680642-44da-446e-d63c-0ffd900e4742",
        "colab": {
          "base_uri": "https://localhost:8080/",
          "height": 71
        }
      },
      "source": [
        "for i in range(100):\n",
        "    Y = target_df[i]\n",
        "    X_train, X_test, y_train, y_test = train_test_split(X, Y, test_size=0.33, random_state=42)\n",
        "    clf_i = LogisticRegression(penalty='l1', random_state=241, C=2).fit(X_train, y_train)\n",
        "    y_pred = clf_i.predict(X_test)\n",
        "    rec_cur = metrics.recall_score(y_test, y_pred)\n",
        "    f1_i = metrics.f1_score(y_test, y_pred)\n",
        "    clf.append(clf_i)\n",
        "    f1.append(f1_i)\n",
        "    print('\\t log reg l1', i ,'recall = ', rec_cur, 'f1 = ', f1_i)"
      ],
      "execution_count": 0,
      "outputs": [
        {
          "output_type": "stream",
          "text": [
            "/usr/local/lib/python3.6/dist-packages/sklearn/linear_model/logistic.py:432: FutureWarning: Default solver will be changed to 'lbfgs' in 0.22. Specify a solver to silence this warning.\n",
            "  FutureWarning)\n"
          ],
          "name": "stderr"
        }
      ]
    },
    {
      "cell_type": "code",
      "metadata": {
        "id": "86bQV7aqK3Sk",
        "colab_type": "code",
        "colab": {}
      },
      "source": [
        "np.mean(f1)"
      ],
      "execution_count": 0,
      "outputs": []
    },
    {
      "cell_type": "code",
      "metadata": {
        "colab_type": "code",
        "id": "uY6U5ucTU6xd",
        "colab": {}
      },
      "source": [
        "test = pd.read_csv(\"/topics_data/My Drive/Colab Notebooks/topics_data/test.tsv\", sep='\\t', lineterminator = '\\n', header = None).fillna('')"
      ],
      "execution_count": 0,
      "outputs": []
    },
    {
      "cell_type": "code",
      "metadata": {
        "id": "ztTcjcB4K3S-",
        "colab_type": "code",
        "colab": {}
      },
      "source": [
        "test.head()"
      ],
      "execution_count": 0,
      "outputs": []
    },
    {
      "cell_type": "code",
      "metadata": {
        "id": "cAYZ6HxRK3TC",
        "colab_type": "code",
        "colab": {}
      },
      "source": [
        "test.shape"
      ],
      "execution_count": 0,
      "outputs": []
    },
    {
      "cell_type": "code",
      "metadata": {
        "scrolled": true,
        "id": "LefB_FeZK3TI",
        "colab_type": "code",
        "colab": {}
      },
      "source": [
        "preprocess_text_title = test[1].apply(preprocess_text)"
      ],
      "execution_count": 0,
      "outputs": []
    },
    {
      "cell_type": "code",
      "metadata": {
        "id": "DR10HnTbK3TO",
        "colab_type": "code",
        "colab": {
          "base_uri": "https://localhost:8080/",
          "height": 68
        },
        "outputId": "533d3b8f-6ebd-49cc-906b-7bb2340e3927"
      },
      "source": [
        "preprocess_text_content = test[2].apply(preprocess_text)"
      ],
      "execution_count": 27,
      "outputs": [
        {
          "output_type": "stream",
          "text": [
            "160000\n",
            "170000\n",
            "180000\n"
          ],
          "name": "stdout"
        }
      ]
    },
    {
      "cell_type": "code",
      "metadata": {
        "scrolled": true,
        "id": "Lx0Iq6zXK3TV",
        "colab_type": "code",
        "colab": {}
      },
      "source": [
        "X1 = vectorizer_topic.transform(preprocess_text_title)\n",
        "X2 = vectorizer_content.transform(preprocess_text_content)\n",
        "X_test = hstack([X1,X2])"
      ],
      "execution_count": 0,
      "outputs": []
    },
    {
      "cell_type": "code",
      "metadata": {
        "scrolled": true,
        "id": "79xiAbMIK3Tg",
        "colab_type": "code",
        "colab": {
          "base_uri": "https://localhost:8080/",
          "height": 187
        },
        "outputId": "0e0a1094-09b8-4f25-f545-52c6ff856f25"
      },
      "source": [
        "result = []\n",
        "for i in range(100):\n",
        "    if i %10 == 0:\n",
        "        print(i)\n",
        "    y_pred = []\n",
        "    y_proba = clf[i].predict_proba(X_test)\n",
        "    y_pred = np.zeros_like(y_proba.T[0])\n",
        "    for j, el in enumerate(y_proba.T[1]):\n",
        "        if el > 0.25:\n",
        "            y_pred[j] = 1\n",
        "    result.append(np.array(y_pred))"
      ],
      "execution_count": 38,
      "outputs": [
        {
          "output_type": "stream",
          "text": [
            "0\n",
            "10\n",
            "20\n",
            "30\n",
            "40\n",
            "50\n",
            "60\n",
            "70\n",
            "80\n",
            "90\n"
          ],
          "name": "stdout"
        }
      ]
    },
    {
      "cell_type": "code",
      "metadata": {
        "id": "b_DGbBS3K3Tj",
        "colab_type": "code",
        "colab": {}
      },
      "source": [
        "result = np.array(result).T"
      ],
      "execution_count": 0,
      "outputs": []
    },
    {
      "cell_type": "code",
      "metadata": {
        "id": "reGh5E6sK3T1",
        "colab_type": "code",
        "colab": {}
      },
      "source": [
        "topics_pred = []\n",
        "for i in range(len(result)):\n",
        "    topics_pred.append([])\n",
        "    for j in range(len(result[i])):\n",
        "        if result[i][j] == 1:\n",
        "            topics_pred[i].append(j)\n",
        "    if len(topics_pred[i]) == 0:\n",
        "      topics_pred[i].append(0)\n",
        "    topics_pred[i] = np.unique(topics_pred[i])"
      ],
      "execution_count": 0,
      "outputs": []
    },
    {
      "cell_type": "code",
      "metadata": {
        "id": "Sna33zykK3T-",
        "colab_type": "code",
        "colab": {}
      },
      "source": [
        "f = open('/topics_data/My Drive/Colab Notebooks/topics_data/submission.tsv', 'w')"
      ],
      "execution_count": 0,
      "outputs": []
    },
    {
      "cell_type": "code",
      "metadata": {
        "id": "gRXqAiurK3UE",
        "colab_type": "code",
        "colab": {}
      },
      "source": [
        "ids = test[0]\n",
        "for i, el in enumerate(topics_pred):\n",
        "    f.write(str(ids[i]))\n",
        "    f.write('\\t')\n",
        "    for j in range(len(el)-1):\n",
        "        f.write(str(el[j]) + ',')\n",
        "    f.write(str(el[len(el)-1]) + '\\n')\n",
        "f.close()"
      ],
      "execution_count": 0,
      "outputs": []
    },
    {
      "cell_type": "code",
      "metadata": {
        "id": "O31gy8PJK3UK",
        "colab_type": "code",
        "colab": {}
      },
      "source": [
        ""
      ],
      "execution_count": 0,
      "outputs": []
    }
  ]
}